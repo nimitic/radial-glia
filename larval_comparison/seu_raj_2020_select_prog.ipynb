{
 "cells": [
  {
   "cell_type": "markdown",
   "id": "e1ccd675-e7c2-4e80-bd0a-558ef7d64189",
   "metadata": {},
   "source": [
    "## Selection of progenitor cells from Raj 2020 datasets"
   ]
  },
  {
   "cell_type": "markdown",
   "id": "26779d2b-9c74-4fff-834a-f87558737d6f",
   "metadata": {},
   "source": [
    "Here I load the previously downloaded datasets from Raj 2020 paper (Raj, B. et al. Emergence of Neuronal Diversity during Vertebrate Brain Development. Neuron 1–17 (2020)) that had been deposited as Seurat objects, and manually select clusters of interest for each timepoint. I focus on the late embryonic and larval progenitors which I want to compare with the adult radial glia, so I merge them into the same file here.\n",
    "(previously I ran this as part of Harmony integration, now saving as separate script)"
   ]
  },
  {
   "cell_type": "code",
   "execution_count": null,
   "id": "94b92256-52cc-4fd1-8b93-1f6e4476b109",
   "metadata": {},
   "outputs": [],
   "source": [
    "library(Seurat)\n",
    "library(ggplot2)\n",
    "library(dplyr)\n",
    "library(RColorBrewer)"
   ]
  },
  {
   "cell_type": "markdown",
   "id": "c008a581-36ed-44d6-8c01-f77c1e951b7f",
   "metadata": {},
   "source": [
    "### Load and update Seurat objects"
   ]
  },
  {
   "cell_type": "code",
   "execution_count": 5,
   "id": "5f1f7304-65fd-493a-9f4e-a272839a8023",
   "metadata": {},
   "outputs": [],
   "source": [
    "# load Raj 2020 datasets - separate for each timepoint\n",
    "# ommit some of the early embryonic datasets with low overlap of cell types\n",
    "\n",
    "larvae_2dpf_in <- readRDS(file = \"/local/Nina/download_data/raj_2020/GSE158142_zf2dpf_cc_filt.cluster.rds\")\n",
    "larvae_3dpf_in <- readRDS(file = \"/local/Nina/download_data/raj_2020/GSE158142_zf3dpf_cc_filt.cluster.rds\")\n",
    "larvae_5dpf_in <- readRDS(file = \"/local/Nina/download_data/raj_2020/GSE158142_zf5dpf_cc_filt.cluster.rds\")\n",
    "larvae_8dpf_in <- readRDS(file = \"/local/Nina/download_data/raj_2020/GSE158142_zf8dpf_cc_filt.cluster4.rds\")\n",
    "larvae_15dpf_in <- readRDS(file = \"/local/Nina/download_data/raj_2020/GSE158142_zf15dpf_PCAALL.rds\")"
   ]
  },
  {
   "cell_type": "code",
   "execution_count": 6,
   "id": "3aa91e11-1626-47a8-be21-a3c88d4f203e",
   "metadata": {},
   "outputs": [
    {
     "name": "stderr",
     "output_type": "stream",
     "text": [
      "Updating from v2.X to v3.X\n",
      "\n",
      "Validating object structure\n",
      "\n",
      "Updating object slots\n",
      "\n",
      "Ensuring keys are in the proper strucutre\n",
      "\n",
      "Ensuring feature names don't have underscores or pipes\n",
      "\n",
      "Object representation is consistent with the most current Seurat version\n",
      "\n",
      "Updating from v2.X to v3.X\n",
      "\n",
      "Validating object structure\n",
      "\n",
      "Updating object slots\n",
      "\n",
      "Ensuring keys are in the proper strucutre\n",
      "\n",
      "Ensuring feature names don't have underscores or pipes\n",
      "\n",
      "Object representation is consistent with the most current Seurat version\n",
      "\n",
      "Updating from v2.X to v3.X\n",
      "\n",
      "Validating object structure\n",
      "\n",
      "Updating object slots\n",
      "\n",
      "Ensuring keys are in the proper strucutre\n",
      "\n",
      "Ensuring feature names don't have underscores or pipes\n",
      "\n",
      "Object representation is consistent with the most current Seurat version\n",
      "\n",
      "Updating from v2.X to v3.X\n",
      "\n",
      "Validating object structure\n",
      "\n",
      "Updating object slots\n",
      "\n",
      "Ensuring keys are in the proper strucutre\n",
      "\n",
      "Ensuring feature names don't have underscores or pipes\n",
      "\n",
      "Object representation is consistent with the most current Seurat version\n",
      "\n",
      "Updating from v2.X to v3.X\n",
      "\n",
      "Validating object structure\n",
      "\n",
      "Updating object slots\n",
      "\n",
      "Ensuring keys are in the proper strucutre\n",
      "\n",
      "Ensuring feature names don't have underscores or pipes\n",
      "\n",
      "Object representation is consistent with the most current Seurat version\n",
      "\n"
     ]
    }
   ],
   "source": [
    "# datasets were deposited in old Seurat version, update to current\n",
    "larvae_2dpf <- SeuratObject::UpdateSeuratObject(larvae_2dpf_in)\n",
    "larvae_3dpf <- SeuratObject::UpdateSeuratObject(larvae_3dpf_in)\n",
    "larvae_5dpf <- SeuratObject::UpdateSeuratObject(larvae_5dpf_in)\n",
    "larvae_8dpf <- SeuratObject::UpdateSeuratObject(larvae_8dpf_in)\n",
    "larvae_15dpf <- SeuratObject::UpdateSeuratObject(larvae_15dpf_in)"
   ]
  },
  {
   "cell_type": "code",
   "execution_count": 7,
   "id": "fe97000b-5ef1-4ff3-995a-8f69915fec09",
   "metadata": {},
   "outputs": [],
   "source": [
    "rm(larvae_2dpf_in, larvae_3dpf_in, larvae_5dpf_in,\n",
    "  larvae_8dpf_in, larvae_15dpf_in)"
   ]
  },
  {
   "cell_type": "markdown",
   "id": "e70e3425-fb0d-42b2-ba09-4da4ecb5fc4e",
   "metadata": {},
   "source": [
    "### Add cell type annotation to metadata"
   ]
  },
  {
   "cell_type": "markdown",
   "id": "85bd1036-85ae-44d5-b603-5f737369c9dc",
   "metadata": {},
   "source": [
    "Since cell type annotation is not included in the Seurat object, I add it from the information provided in the supplemental table."
   ]
  },
  {
   "cell_type": "code",
   "execution_count": 8,
   "id": "dffbbc10-c76d-4d0d-975a-2c743dc3db11",
   "metadata": {},
   "outputs": [],
   "source": [
    "# first add stage-specific metadata column based on which integration will later be done\n",
    "larvae_2dpf$stage <- \"larvae_2dpf\"\n",
    "larvae_3dpf$stage <- \"larvae_3dpf\"\n",
    "larvae_5dpf$stage <- \"larvae_5dpf\"\n",
    "larvae_8dpf$stage <- \"larvae_8dpf\"\n",
    "larvae_15dpf$stage <- \"larvae_15dpf\""
   ]
  },
  {
   "cell_type": "code",
   "execution_count": 9,
   "id": "22d21655-4cbf-4d87-beeb-1d746af46536",
   "metadata": {},
   "outputs": [],
   "source": [
    "# load file with cell type annotation for all stages & subset by stage to avoid mistakes / name overlaps when adding names\n",
    "\n",
    "larvae_annotation <- read.csv(file = \"/local/Nina/jupyterlab/larvae_adult_int/raj_2020_assigned_clusters.csv\",\n",
    "                             sep = ';')"
   ]
  },
  {
   "cell_type": "code",
   "execution_count": 10,
   "id": "57084d15-8263-4310-ba2a-1d122a9b1266",
   "metadata": {},
   "outputs": [
    {
     "data": {
      "text/html": [
       "<table class=\"dataframe\">\n",
       "<caption>A data.frame: 6 × 4</caption>\n",
       "<thead>\n",
       "\t<tr><th></th><th scope=col>nr</th><th scope=col>stage</th><th scope=col>cluster</th><th scope=col>assigned_cell_type</th></tr>\n",
       "\t<tr><th></th><th scope=col>&lt;int&gt;</th><th scope=col>&lt;chr&gt;</th><th scope=col>&lt;int&gt;</th><th scope=col>&lt;chr&gt;</th></tr>\n",
       "</thead>\n",
       "<tbody>\n",
       "\t<tr><th scope=row>1</th><td>1</td><td>12 hpf</td><td>0</td><td>optic vesicle                  </td></tr>\n",
       "\t<tr><th scope=row>2</th><td>2</td><td>12 hpf</td><td>1</td><td>optic vesicle                  </td></tr>\n",
       "\t<tr><th scope=row>3</th><td>3</td><td>12 hpf</td><td>2</td><td>midbrain                       </td></tr>\n",
       "\t<tr><th scope=row>4</th><td>4</td><td>12 hpf</td><td>4</td><td>neural crest                   </td></tr>\n",
       "\t<tr><th scope=row>5</th><td>5</td><td>12 hpf</td><td>5</td><td>mid-hind boundary/ant hindbrain</td></tr>\n",
       "\t<tr><th scope=row>6</th><td>6</td><td>12 hpf</td><td>7</td><td>midbrain neural rod            </td></tr>\n",
       "</tbody>\n",
       "</table>\n"
      ],
      "text/latex": [
       "A data.frame: 6 × 4\n",
       "\\begin{tabular}{r|llll}\n",
       "  & nr & stage & cluster & assigned\\_cell\\_type\\\\\n",
       "  & <int> & <chr> & <int> & <chr>\\\\\n",
       "\\hline\n",
       "\t1 & 1 & 12 hpf & 0 & optic vesicle                  \\\\\n",
       "\t2 & 2 & 12 hpf & 1 & optic vesicle                  \\\\\n",
       "\t3 & 3 & 12 hpf & 2 & midbrain                       \\\\\n",
       "\t4 & 4 & 12 hpf & 4 & neural crest                   \\\\\n",
       "\t5 & 5 & 12 hpf & 5 & mid-hind boundary/ant hindbrain\\\\\n",
       "\t6 & 6 & 12 hpf & 7 & midbrain neural rod            \\\\\n",
       "\\end{tabular}\n"
      ],
      "text/markdown": [
       "\n",
       "A data.frame: 6 × 4\n",
       "\n",
       "| <!--/--> | nr &lt;int&gt; | stage &lt;chr&gt; | cluster &lt;int&gt; | assigned_cell_type &lt;chr&gt; |\n",
       "|---|---|---|---|---|\n",
       "| 1 | 1 | 12 hpf | 0 | optic vesicle                   |\n",
       "| 2 | 2 | 12 hpf | 1 | optic vesicle                   |\n",
       "| 3 | 3 | 12 hpf | 2 | midbrain                        |\n",
       "| 4 | 4 | 12 hpf | 4 | neural crest                    |\n",
       "| 5 | 5 | 12 hpf | 5 | mid-hind boundary/ant hindbrain |\n",
       "| 6 | 6 | 12 hpf | 7 | midbrain neural rod             |\n",
       "\n"
      ],
      "text/plain": [
       "  nr stage  cluster assigned_cell_type             \n",
       "1 1  12 hpf 0       optic vesicle                  \n",
       "2 2  12 hpf 1       optic vesicle                  \n",
       "3 3  12 hpf 2       midbrain                       \n",
       "4 4  12 hpf 4       neural crest                   \n",
       "5 5  12 hpf 5       mid-hind boundary/ant hindbrain\n",
       "6 6  12 hpf 7       midbrain neural rod            "
      ]
     },
     "metadata": {},
     "output_type": "display_data"
    }
   ],
   "source": [
    "head(larvae_annotation)"
   ]
  },
  {
   "cell_type": "code",
   "execution_count": 11,
   "id": "b463a1de-7d06-4dce-b6e4-72e6f4e21483",
   "metadata": {},
   "outputs": [
    {
     "data": {
      "text/plain": [
       "\n",
       "12 hpf 14 hpf 15 dpf 16 hpf 18 hpf  2 dpf 20 hpf 24 hpf  3 dpf 36 hpf  5 dpf \n",
       "    44     41     99     54     59     69     70     59     73     65     94 \n",
       " 8 dpf \n",
       "    89 "
      ]
     },
     "metadata": {},
     "output_type": "display_data"
    }
   ],
   "source": [
    "table(larvae_annotation$stage)"
   ]
  },
  {
   "cell_type": "code",
   "execution_count": 13,
   "id": "30c8d36d-20d3-4723-ab32-5e80f221ddab",
   "metadata": {},
   "outputs": [],
   "source": [
    "larvae_annotation_2dpf <- larvae_annotation[which(larvae_annotation$stage == \"2 dpf\"),]\n",
    "larvae_annotation_3dpf <- larvae_annotation[which(larvae_annotation$stage == \"3 dpf\"),]\n",
    "larvae_annotation_5dpf <- larvae_annotation[which(larvae_annotation$stage == \"5 dpf\"),]\n",
    "larvae_annotation_8dpf <- larvae_annotation[which(larvae_annotation$stage == \"8 dpf\"),]\n",
    "larvae_annotation_15dpf <- larvae_annotation[which(larvae_annotation$stage == \"15 dpf\"),]"
   ]
  },
  {
   "cell_type": "code",
   "execution_count": 12,
   "id": "e159f41f-be74-4ff5-aec1-659dd5dbb8d6",
   "metadata": {},
   "outputs": [],
   "source": [
    "# create new metadata vectors with cluster names (currently numbers)\n",
    "clusters_numeric_vector_2dpf <- larvae_2dpf@active.ident\n",
    "clusters_numeric_vector_3dpf <- larvae_3dpf@active.ident\n",
    "clusters_numeric_vector_5dpf <- larvae_5dpf@active.ident\n",
    "clusters_numeric_vector_8dpf <- larvae_8dpf@active.ident\n",
    "clusters_numeric_vector_15dpf <- larvae_15dpf@active.ident"
   ]
  },
  {
   "cell_type": "code",
   "execution_count": 14,
   "id": "c298ec08-b03d-489e-af5f-05fa0a55683d",
   "metadata": {},
   "outputs": [],
   "source": [
    "# use vectors of cluster numbers from each object as template for mapping corresponding cluster names\n",
    "celltype_assigned_vector_2dpf <- plyr::mapvalues(clusters_numeric_vector_2dpf,\n",
    "                                        from = as.vector(larvae_annotation_2dpf$cluster),\n",
    "                                        to = as.vector(larvae_annotation_2dpf$assigned_cell_type))\n",
    "celltype_assigned_vector_3dpf <- plyr::mapvalues(clusters_numeric_vector_3dpf,\n",
    "                                        from = as.vector(larvae_annotation_3dpf$cluster),\n",
    "                                        to = as.vector(larvae_annotation_3dpf$assigned_cell_type))\n",
    "celltype_assigned_vector_5dpf <- plyr::mapvalues(clusters_numeric_vector_5dpf,\n",
    "                                        from = as.vector(larvae_annotation_5dpf$cluster),\n",
    "                                        to = as.vector(larvae_annotation_5dpf$assigned_cell_type))\n",
    "celltype_assigned_vector_8dpf <- plyr::mapvalues(clusters_numeric_vector_8dpf,\n",
    "                                        from = as.vector(larvae_annotation_8dpf$cluster),\n",
    "                                        to = as.vector(larvae_annotation_8dpf$assigned_cell_type))\n",
    "celltype_assigned_vector_15dpf <- plyr::mapvalues(clusters_numeric_vector_15dpf,\n",
    "                                        from = as.vector(larvae_annotation_15dpf$cluster),\n",
    "                                        to = as.vector(larvae_annotation_15dpf$assigned_cell_type))"
   ]
  },
  {
   "cell_type": "code",
   "execution_count": 18,
   "id": "dd2cf24d-37ed-4d78-936f-b74c9dc7d1fd",
   "metadata": {},
   "outputs": [],
   "source": [
    "# add metadata to seurat object\n",
    "larvae_2dpf$celltype_assigned <- celltype_assigned_vector_2dpf\n",
    "larvae_3dpf$celltype_assigned <- celltype_assigned_vector_3dpf\n",
    "larvae_5dpf$celltype_assigned <- celltype_assigned_vector_5dpf\n",
    "larvae_8dpf$celltype_assigned <- celltype_assigned_vector_8dpf\n",
    "larvae_15dpf$celltype_assigned <- celltype_assigned_vector_15dpf"
   ]
  },
  {
   "cell_type": "markdown",
   "id": "c806a456-e989-4952-87c2-8fca7a0ead13",
   "metadata": {},
   "source": [
    "### Select for progenitor cell types"
   ]
  },
  {
   "cell_type": "markdown",
   "id": "34c5ac51-cc1e-4fe2-86d3-4f1ecb2ff88e",
   "metadata": {},
   "source": [
    "Select for progenitor cell types and radial glia. Ommit unrelated cell types (eg retina) which are not present in any of my adult samples. I'm unclear on what exactly \"glial progenitors\" are and the marker genes indicate at least some overlap with radial glia, so I include them for now.  "
   ]
  },
  {
   "cell_type": "code",
   "execution_count": 19,
   "id": "cacde51e-9c70-4ead-810a-6bf71d7f1ecc",
   "metadata": {},
   "outputs": [],
   "source": [
    "# based on the supplemental table, select progenitor cells for each time points\n",
    "larvae_2dpf_prog <- subset(larvae_2dpf, subset = celltype_assigned %in% \n",
    "                            c(\"progenitors\", \"progenitors (midbrain)\", \"radial glia\",\n",
    "                             \"progenitors/neurons (differentiating)\", \"glial progenitors\"))"
   ]
  },
  {
   "cell_type": "code",
   "execution_count": 20,
   "id": "ed0cb4c0-56f9-4344-afdf-abc33ce272ab",
   "metadata": {},
   "outputs": [],
   "source": [
    "larvae_3dpf_prog <- subset(larvae_3dpf, subset = celltype_assigned %in% \n",
    "                            c(\"progenitors\", \"progenitors/neurons (differentiating)\", \"radial glia\",\n",
    "                             \"progenitors (midbrain)\", \"glial progenitors\"))"
   ]
  },
  {
   "cell_type": "code",
   "execution_count": 21,
   "id": "fb888366-1a13-40d5-bbf4-cc466f0471b2",
   "metadata": {},
   "outputs": [],
   "source": [
    "larvae_5dpf_prog <- subset(larvae_5dpf, subset = celltype_assigned %in% \n",
    "                            c(\"progenitors\", \"radial glia\", \"progenitors/differentiating granule cells (hindbrain)\",\n",
    "                             \"progenitors/neurons (differentiating)\", \"progenitors (cycling)\", \"glial progenitors\"))"
   ]
  },
  {
   "cell_type": "code",
   "execution_count": 22,
   "id": "c2792e7c-0843-460d-908e-87a7419b8ab2",
   "metadata": {},
   "outputs": [],
   "source": [
    "larvae_8dpf_prog <- subset(larvae_8dpf, subset = celltype_assigned %in% \n",
    "                            c(\"progenitors\", \"progenitors/neurons (differentiating)\", \"radial glia\",\n",
    "                             \"progenitors (cycling)\", \"glial progenitors\"))"
   ]
  },
  {
   "cell_type": "code",
   "execution_count": 23,
   "id": "d03f6286-03ce-448e-a3f6-29a5381919b7",
   "metadata": {},
   "outputs": [],
   "source": [
    "larvae_15dpf_prog <- subset(larvae_15dpf, subset = celltype_assigned %in% \n",
    "                            c(\"radial glia\", \"progenitors/neurons (differentiating)\", \n",
    "                              \"progenitors\", \"URL progenitors\", \"progenitors (ventral)\", \n",
    "                              \"progenitors (cycling)\", \"progenitors/differentiating \", \"glia progenitors\"))"
   ]
  },
  {
   "cell_type": "code",
   "execution_count": 29,
   "id": "45a80726-6eaf-42c0-8c42-2ce5c98a1f9f",
   "metadata": {},
   "outputs": [],
   "source": [
    "rm(larvae_2dpf, larvae_3dpf, larvae_5dpf, larvae_8dpf, larvae_15dpf)"
   ]
  },
  {
   "cell_type": "markdown",
   "id": "8968f7c1-4f39-4b22-9ace-4b9e54e25b21",
   "metadata": {},
   "source": [
    "### Load adult dataset and combine all progenitors"
   ]
  },
  {
   "cell_type": "code",
   "execution_count": 30,
   "id": "85218f02-b821-4767-9921-503d61f68abb",
   "metadata": {},
   "outputs": [],
   "source": [
    "# load cleaned up version of RG dataset (doublets excluded)\n",
    "rg_pool_sub <- readRDS(file = \"/local/Nina/jupyterlab/brains_trans/rg_pool_reg_sub.rds\")"
   ]
  },
  {
   "cell_type": "code",
   "execution_count": 31,
   "id": "67ea9cef-7c71-4394-8975-e96f8c502ac4",
   "metadata": {},
   "outputs": [
    {
     "data": {
      "text/html": [
       "<style>\n",
       ".list-inline {list-style: none; margin:0; padding: 0}\n",
       ".list-inline>li {display: inline-block}\n",
       ".list-inline>li:not(:last-child)::after {content: \"\\00b7\"; padding: 0 .5ex}\n",
       "</style>\n",
       "<ol class=list-inline><li>24332</li><li>15829</li></ol>\n"
      ],
      "text/latex": [
       "\\begin{enumerate*}\n",
       "\\item 24332\n",
       "\\item 15829\n",
       "\\end{enumerate*}\n"
      ],
      "text/markdown": [
       "1. 24332\n",
       "2. 15829\n",
       "\n",
       "\n"
      ],
      "text/plain": [
       "[1] 24332 15829"
      ]
     },
     "metadata": {},
     "output_type": "display_data"
    }
   ],
   "source": [
    "dim(rg_pool_sub)"
   ]
  },
  {
   "cell_type": "code",
   "execution_count": 32,
   "id": "f09cba39-0aab-46d2-bfa8-7a26dc3d3639",
   "metadata": {},
   "outputs": [],
   "source": [
    "rg_pool_sub$stage <- \"adult\""
   ]
  },
  {
   "cell_type": "code",
   "execution_count": 33,
   "id": "5fcce647-2464-4f95-b61d-202385e144b7",
   "metadata": {},
   "outputs": [],
   "source": [
    "progenitors <- merge(larvae_2dpf_prog, c(larvae_3dpf_prog, larvae_5dpf_prog,\n",
    "                                        larvae_8dpf_prog, larvae_15dpf_prog, rg_pool_sub))"
   ]
  },
  {
   "cell_type": "code",
   "execution_count": 34,
   "id": "961e77c9-3ada-40ee-afdb-1b53b6f1dd53",
   "metadata": {},
   "outputs": [
    {
     "data": {
      "text/html": [
       "<style>\n",
       ".list-inline {list-style: none; margin:0; padding: 0}\n",
       ".list-inline>li {display: inline-block}\n",
       ".list-inline>li:not(:last-child)::after {content: \"\\00b7\"; padding: 0 .5ex}\n",
       "</style>\n",
       "<ol class=list-inline><li>29598</li><li>36448</li></ol>\n"
      ],
      "text/latex": [
       "\\begin{enumerate*}\n",
       "\\item 29598\n",
       "\\item 36448\n",
       "\\end{enumerate*}\n"
      ],
      "text/markdown": [
       "1. 29598\n",
       "2. 36448\n",
       "\n",
       "\n"
      ],
      "text/plain": [
       "[1] 29598 36448"
      ]
     },
     "metadata": {},
     "output_type": "display_data"
    }
   ],
   "source": [
    "dim(progenitors)"
   ]
  },
  {
   "cell_type": "code",
   "execution_count": 35,
   "id": "aca1b3b5-14e0-4e48-b0fa-f1baf55ea8db",
   "metadata": {},
   "outputs": [
    {
     "data": {
      "text/plain": [
       "\n",
       "       adult larvae_15dpf  larvae_2dpf  larvae_3dpf  larvae_5dpf  larvae_8dpf \n",
       "       15829         9782         1619         2049         2988         4181 "
      ]
     },
     "metadata": {},
     "output_type": "display_data"
    }
   ],
   "source": [
    "table(progenitors$stage)"
   ]
  },
  {
   "cell_type": "code",
   "execution_count": 37,
   "id": "183ce23b-a9a6-47ad-8350-53e33411cdd7",
   "metadata": {},
   "outputs": [],
   "source": [
    "rm(rg_pool_sub, larvae_2dpf_prog, larvae_3dpf_prog,\n",
    "  larvae_5dpf_prog, larvae_8dpf_prog, larvae_15dpf_prog)"
   ]
  },
  {
   "cell_type": "code",
   "execution_count": 38,
   "id": "17c9741e-a1b4-4a00-8431-d8d24a0a050a",
   "metadata": {},
   "outputs": [],
   "source": [
    "saveRDS(progenitors, file = \"/local/Nina/jupyterlab/larvae_adult_int/prog_2dpf-adult_in.rds\")"
   ]
  },
  {
   "cell_type": "code",
   "execution_count": null,
   "id": "709a58fb-3318-41a4-a73d-6a100c821661",
   "metadata": {},
   "outputs": [],
   "source": []
  }
 ],
 "metadata": {
  "kernelspec": {
   "display_name": "R [conda env:seuratv4_base]",
   "language": "R",
   "name": "conda-env-seuratv4_base-r"
  },
  "language_info": {
   "codemirror_mode": "r",
   "file_extension": ".r",
   "mimetype": "text/x-r-source",
   "name": "R",
   "pygments_lexer": "r",
   "version": "4.1.3"
  }
 },
 "nbformat": 4,
 "nbformat_minor": 5
}
